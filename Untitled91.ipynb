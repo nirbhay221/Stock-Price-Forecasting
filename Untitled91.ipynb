{
  "nbformat": 4,
  "nbformat_minor": 0,
  "metadata": {
    "colab": {
      "name": "Untitled91.ipynb",
      "provenance": [],
      "collapsed_sections": []
    },
    "kernelspec": {
      "name": "python3",
      "display_name": "Python 3"
    }
  },
  "cells": [
    {
      "cell_type": "code",
      "metadata": {
        "id": "U17YUoiOUt1U"
      },
      "source": [
        "import pandas as pd \n",
        "import tensorflow as tf\n",
        "import numpy as np\n",
        "import matplotlib.pyplot as plt\n",
        "import csv"
      ],
      "execution_count": null,
      "outputs": []
    },
    {
      "cell_type": "code",
      "metadata": {
        "colab": {
          "base_uri": "https://localhost:8080/",
          "height": 204
        },
        "id": "dNnFXRfwVgE4",
        "outputId": "4aa95419-104a-45c5-8a16-8d6118618622"
      },
      "source": [
        "df = pd.read_csv('/content/daily_csv.csv')\n",
        "df.head()"
      ],
      "execution_count": null,
      "outputs": [
        {
          "output_type": "execute_result",
          "data": {
            "text/html": [
              "<div>\n",
              "<style scoped>\n",
              "    .dataframe tbody tr th:only-of-type {\n",
              "        vertical-align: middle;\n",
              "    }\n",
              "\n",
              "    .dataframe tbody tr th {\n",
              "        vertical-align: top;\n",
              "    }\n",
              "\n",
              "    .dataframe thead th {\n",
              "        text-align: right;\n",
              "    }\n",
              "</style>\n",
              "<table border=\"1\" class=\"dataframe\">\n",
              "  <thead>\n",
              "    <tr style=\"text-align: right;\">\n",
              "      <th></th>\n",
              "      <th>Date</th>\n",
              "      <th>Price</th>\n",
              "    </tr>\n",
              "  </thead>\n",
              "  <tbody>\n",
              "    <tr>\n",
              "      <th>0</th>\n",
              "      <td>1997-01-07</td>\n",
              "      <td>3.82</td>\n",
              "    </tr>\n",
              "    <tr>\n",
              "      <th>1</th>\n",
              "      <td>1997-01-08</td>\n",
              "      <td>3.80</td>\n",
              "    </tr>\n",
              "    <tr>\n",
              "      <th>2</th>\n",
              "      <td>1997-01-09</td>\n",
              "      <td>3.61</td>\n",
              "    </tr>\n",
              "    <tr>\n",
              "      <th>3</th>\n",
              "      <td>1997-01-10</td>\n",
              "      <td>3.92</td>\n",
              "    </tr>\n",
              "    <tr>\n",
              "      <th>4</th>\n",
              "      <td>1997-01-13</td>\n",
              "      <td>4.00</td>\n",
              "    </tr>\n",
              "  </tbody>\n",
              "</table>\n",
              "</div>"
            ],
            "text/plain": [
              "         Date  Price\n",
              "0  1997-01-07   3.82\n",
              "1  1997-01-08   3.80\n",
              "2  1997-01-09   3.61\n",
              "3  1997-01-10   3.92\n",
              "4  1997-01-13   4.00"
            ]
          },
          "metadata": {
            "tags": []
          },
          "execution_count": 5
        }
      ]
    },
    {
      "cell_type": "code",
      "metadata": {
        "id": "au-dWxPMVgQ3",
        "colab": {
          "base_uri": "https://localhost:8080/"
        },
        "outputId": "1c507dd3-f281-44d6-fc37-642ac69a4d2b"
      },
      "source": [
        "df.shape"
      ],
      "execution_count": null,
      "outputs": [
        {
          "output_type": "execute_result",
          "data": {
            "text/plain": [
              "(5938, 2)"
            ]
          },
          "metadata": {
            "tags": []
          },
          "execution_count": 6
        }
      ]
    },
    {
      "cell_type": "code",
      "metadata": {
        "id": "GA0P-eY8mNtt"
      },
      "source": [
        "sunspots =[]\n",
        "time_steps=[]\n",
        "with open('/content/daily_csv.csv') as csv_file:\n",
        "  reader = csv.reader(csv_file,delimiter=',')\n",
        "  next(reader)\n",
        "  x=0\n",
        "  for row in reader:\n",
        "    time_steps.append(x)\n",
        "    x=x+1"
      ],
      "execution_count": null,
      "outputs": []
    },
    {
      "cell_type": "code",
      "metadata": {
        "id": "VnB6v7S2nPCJ"
      },
      "source": [
        "time = np.array(time_steps)\n",
        "series= np.array(df['Price'])"
      ],
      "execution_count": null,
      "outputs": []
    },
    {
      "cell_type": "code",
      "metadata": {
        "colab": {
          "base_uri": "https://localhost:8080/"
        },
        "id": "MYQZdHlnnZ-o",
        "outputId": "4f3ee625-d530-42f7-9586-215cb4dbf1b6"
      },
      "source": [
        "series.dtype"
      ],
      "execution_count": null,
      "outputs": [
        {
          "output_type": "execute_result",
          "data": {
            "text/plain": [
              "dtype('float64')"
            ]
          },
          "metadata": {
            "tags": []
          },
          "execution_count": 23
        }
      ]
    },
    {
      "cell_type": "code",
      "metadata": {
        "id": "m3EF5iY4n7hv"
      },
      "source": [
        "def plot_series(time,series,format='-',start=0,end=None):\n",
        "  plt.plot(time[start:end],series[start:end],format)\n",
        "  plt.xlabel('Time')\n",
        "  plt.ylabel('Values')\n",
        "  plt.grid(False)"
      ],
      "execution_count": null,
      "outputs": []
    },
    {
      "cell_type": "code",
      "metadata": {
        "colab": {
          "base_uri": "https://localhost:8080/",
          "height": 279
        },
        "id": "PSVNxibmoefj",
        "outputId": "1175e49d-c9d5-4ef6-da5c-4415d1311f67"
      },
      "source": [
        "plot_series(time,series)"
      ],
      "execution_count": null,
      "outputs": [
        {
          "output_type": "display_data",
          "data": {
            "image/png": "[encoded data removed]",
            "text/plain": [
              "<Figure size 432x288 with 1 Axes>"
            ]
          },
          "metadata": {
            "tags": [],
            "needs_background": "light"
          }
        }
      ]
    },
    {
      "cell_type": "code",
      "metadata": {
        "id": "-boY7fnKolmX"
      },
      "source": [
        "split_time = 1000\n",
        "time_train = time[:split_time]\n",
        "time_valid = time[split_time:]\n",
        "x_train = series[:split_time]\n",
        "x_valid = series[split_time:]"
      ],
      "execution_count": null,
      "outputs": []
    },
    {
      "cell_type": "code",
      "metadata": {
        "id": "unWjfvT1o8RP"
      },
      "source": [
        "window_size=20\n",
        "batch_size=32\n",
        "shuffle_buffer_size=1000"
      ],
      "execution_count": null,
      "outputs": []
    },
    {
      "cell_type": "code",
      "metadata": {
        "id": "JNkyzVTApANT"
      },
      "source": [
        "def windowed_dataset(series,window_size,batch_size,shuffle_buffer):\n",
        "  series= tf.expand_dims(series,axis=1)\n",
        "  dataset= tf.data.Dataset.from_tensor_slices(series)\n",
        "  dataset = dataset.window(window_size+1,shift=1,drop_remainder=True)\n",
        "  dataset = dataset.flat_map(lambda window:window.batch(window_size+1))\n",
        "  dataset= dataset.shuffle(shuffle_buffer).map(lambda window: (window[:-1],window[-1]))\n",
        "  dataset= dataset.batch(batch_size).prefetch(-1)\n",
        "  return dataset"
      ],
      "execution_count": null,
      "outputs": []
    },
    {
      "cell_type": "code",
      "metadata": {
        "id": "qfbGYhFwpm7H"
      },
      "source": [
        "def model_forecast(model,series,window_size):\n",
        "  dataset= tf.data.Dataset.from_tensor_slices(series)\n",
        "  dataset = dataset.window(window_size,shift=1,drop_remainder=True)\n",
        "  dataset = dataset.flat_map(lambda window:window.batch(window_size))\n",
        "  dataset= dataset.batch(batch_size).prefetch(-1)\n",
        "  forecast = model.predict(dataset)\n",
        "  return forecast"
      ],
      "execution_count": null,
      "outputs": []
    },
    {
      "cell_type": "code",
      "metadata": {
        "id": "MuICCSQWqLqn"
      },
      "source": [
        "dataset = windowed_dataset(x_train,window_size,batch_size,shuffle_buffer=shuffle_buffer_size)\n"
      ],
      "execution_count": null,
      "outputs": []
    },
    {
      "cell_type": "code",
      "metadata": {
        "id": "YxOLeVavqrVO"
      },
      "source": [
        "model = tf.keras.models.Sequential([\n",
        "                                    tf.keras.layers.Conv1D(filters=100,kernel_size=5,strides=1,padding='causal',activation='relu',input_shape=[None,1]),\n",
        "                                    tf.keras.layers.Bidirectional(tf.keras.layers.LSTM(20,return_sequences=True)),\n",
        "                                    tf.keras.layers.Bidirectional(tf.keras.layers.LSTM(20,return_sequences=True)),\n",
        "                                    tf.keras.layers.Dense(30,activation='relu'),\n",
        "                                    tf.keras.layers.Dense(10,activation='relu'),\n",
        "                                    tf.keras.layers.Dense(1),\n",
        "                                    tf.keras.layers.Lambda(lambda x: x*400)\n",
        "])"
      ],
      "execution_count": null,
      "outputs": []
    },
    {
      "cell_type": "code",
      "metadata": {
        "id": "W-U0OwmHrlXH"
      },
      "source": [
        "lr_scheduler = tf.keras.callbacks.LearningRateScheduler(lambda epochs : 1e-8*10**(epochs/20))"
      ],
      "execution_count": null,
      "outputs": []
    },
    {
      "cell_type": "code",
      "metadata": {
        "id": "dhhtNC2hrvUf"
      },
      "source": [
        "model.compile(loss= tf.keras.losses.Huber(),optimizer= tf.keras.optimizers.SGD(lr=1e-8,momentum=0.9),metrics=['mae'])"
      ],
      "execution_count": null,
      "outputs": []
    },
    {
      "cell_type": "code",
      "metadata": {
        "colab": {
          "base_uri": "https://localhost:8080/"
        },
        "id": "i-4JAux_r7jW",
        "outputId": "a4e587c7-ce50-4b8b-ec66-d1a1486e7b22"
      },
      "source": [
        "history=model.fit(dataset,epochs=100,callbacks=[lr_scheduler])"
      ],
      "execution_count": null,
      "outputs": [
        {
          "output_type": "stream",
          "text": [
            "Epoch 1/100\n",
            "31/31 [==============================] - 1s 25ms/step - loss: 2070.2273 - mae: 2070.7273\n",
            "Epoch 2/100\n",
            "31/31 [==============================] - 1s 26ms/step - loss: 2873.9507 - mae: 2874.4507\n",
            "Epoch 3/100\n",
            "31/31 [==============================] - 1s 26ms/step - loss: 2904.0637 - mae: 2904.5637\n",
            "Epoch 4/100\n",
            "31/31 [==============================] - 1s 25ms/step - loss: 2904.5947 - mae: 2905.0947\n",
            "Epoch 5/100\n",
            "31/31 [==============================] - 1s 25ms/step - loss: 2903.9214 - mae: 2904.4214\n",
            "Epoch 6/100\n",
            "31/31 [==============================] - 1s 26ms/step - loss: 2903.1184 - mae: 2903.6184\n",
            "Epoch 7/100\n",
            "31/31 [==============================] - 1s 25ms/step - loss: 2902.2153 - mae: 2902.7153\n",
            "Epoch 8/100\n",
            "31/31 [==============================] - 1s 25ms/step - loss: 2901.2026 - mae: 2901.7026\n",
            "Epoch 9/100\n",
            "31/31 [==============================] - 1s 25ms/step - loss: 2900.0649 - mae: 2900.5649\n",
            "Epoch 10/100\n",
            "31/31 [==============================] - 1s 25ms/step - loss: 2898.7891 - mae: 2899.2891\n",
            "Epoch 11/100\n",
            "31/31 [==============================] - 1s 24ms/step - loss: 2897.3572 - mae: 2897.8572\n",
            "Epoch 12/100\n",
            "31/31 [==============================] - 1s 26ms/step - loss: 2895.7507 - mae: 2896.2507\n",
            "Epoch 13/100\n",
            "31/31 [==============================] - 1s 25ms/step - loss: 2893.9485 - mae: 2894.4485\n",
            "Epoch 14/100\n",
            "31/31 [==============================] - 1s 25ms/step - loss: 2891.9258 - mae: 2892.4258\n",
            "Epoch 15/100\n",
            "31/31 [==============================] - 1s 25ms/step - loss: 2889.6572 - mae: 2890.1572\n",
            "Epoch 16/100\n",
            "31/31 [==============================] - 1s 25ms/step - loss: 2887.1106 - mae: 2887.6106\n",
            "Epoch 17/100\n",
            "31/31 [==============================] - 1s 25ms/step - loss: 2884.2546 - mae: 2884.7546\n",
            "Epoch 18/100\n",
            "31/31 [==============================] - 1s 25ms/step - loss: 2881.0488 - mae: 2881.5488\n",
            "Epoch 19/100\n",
            "31/31 [==============================] - 1s 24ms/step - loss: 2877.4531 - mae: 2877.9531\n",
            "Epoch 20/100\n",
            "31/31 [==============================] - 1s 25ms/step - loss: 2873.4192 - mae: 2873.9192\n",
            "Epoch 21/100\n",
            "31/31 [==============================] - 1s 26ms/step - loss: 2868.8921 - mae: 2869.3921\n",
            "Epoch 22/100\n",
            "31/31 [==============================] - 1s 25ms/step - loss: 2863.8120 - mae: 2864.3120\n",
            "Epoch 23/100\n",
            "31/31 [==============================] - 1s 25ms/step - loss: 2858.1128 - mae: 2858.6128\n",
            "Epoch 24/100\n",
            "31/31 [==============================] - 1s 25ms/step - loss: 2851.7173 - mae: 2852.2173\n",
            "Epoch 25/100\n",
            "31/31 [==============================] - 1s 26ms/step - loss: 2844.5425 - mae: 2845.0425\n",
            "Epoch 26/100\n",
            "31/31 [==============================] - 1s 26ms/step - loss: 2836.4919 - mae: 2836.9919\n",
            "Epoch 27/100\n",
            "31/31 [==============================] - 1s 25ms/step - loss: 2827.4587 - mae: 2827.9587\n",
            "Epoch 28/100\n",
            "31/31 [==============================] - 1s 25ms/step - loss: 2817.3225 - mae: 2817.8225\n",
            "Epoch 29/100\n",
            "31/31 [==============================] - 1s 26ms/step - loss: 2805.9504 - mae: 2806.4504\n",
            "Epoch 30/100\n",
            "31/31 [==============================] - 1s 26ms/step - loss: 2793.1907 - mae: 2793.6907\n",
            "Epoch 31/100\n",
            "31/31 [==============================] - 1s 25ms/step - loss: 2778.8738 - mae: 2779.3738\n",
            "Epoch 32/100\n",
            "31/31 [==============================] - 1s 25ms/step - loss: 2762.8108 - mae: 2763.3108\n",
            "Epoch 33/100\n",
            "31/31 [==============================] - 1s 25ms/step - loss: 2744.7866 - mae: 2745.2866\n",
            "Epoch 34/100\n",
            "31/31 [==============================] - 1s 26ms/step - loss: 2724.5637 - mae: 2725.0637\n",
            "Epoch 35/100\n",
            "31/31 [==============================] - 1s 25ms/step - loss: 2701.8723 - mae: 2702.3723\n",
            "Epoch 36/100\n",
            "31/31 [==============================] - 1s 26ms/step - loss: 2676.4131 - mae: 2676.9131\n",
            "Epoch 37/100\n",
            "31/31 [==============================] - 1s 27ms/step - loss: 2647.8481 - mae: 2648.3481\n",
            "Epoch 38/100\n",
            "31/31 [==============================] - 1s 26ms/step - loss: 2615.7966 - mae: 2616.2966\n",
            "Epoch 39/100\n",
            "31/31 [==============================] - 1s 25ms/step - loss: 2579.8352 - mae: 2580.3352\n",
            "Epoch 40/100\n",
            "31/31 [==============================] - 1s 27ms/step - loss: 2539.4851 - mae: 2539.9851\n",
            "Epoch 41/100\n",
            "31/31 [==============================] - 1s 25ms/step - loss: 2494.2122 - mae: 2494.7122\n",
            "Epoch 42/100\n",
            "31/31 [==============================] - 1s 27ms/step - loss: 2443.4141 - mae: 2443.9141\n",
            "Epoch 43/100\n",
            "31/31 [==============================] - 1s 26ms/step - loss: 2386.4172 - mae: 2386.9172\n",
            "Epoch 44/100\n",
            "31/31 [==============================] - 1s 25ms/step - loss: 2322.4673 - mae: 2322.9673\n",
            "Epoch 45/100\n",
            "31/31 [==============================] - 1s 27ms/step - loss: 2250.7141 - mae: 2251.2141\n",
            "Epoch 46/100\n",
            "31/31 [==============================] - 1s 26ms/step - loss: 2170.2051 - mae: 2170.7051\n",
            "Epoch 47/100\n",
            "31/31 [==============================] - 1s 25ms/step - loss: 2079.8733 - mae: 2080.3733\n",
            "Epoch 48/100\n",
            "31/31 [==============================] - 1s 26ms/step - loss: 1978.5192 - mae: 1979.0192\n",
            "Epoch 49/100\n",
            "31/31 [==============================] - 1s 27ms/step - loss: 1864.7976 - mae: 1865.2976\n",
            "Epoch 50/100\n",
            "31/31 [==============================] - 1s 25ms/step - loss: 1737.1995 - mae: 1737.6995\n",
            "Epoch 51/100\n",
            "31/31 [==============================] - 1s 26ms/step - loss: 1594.0330 - mae: 1594.5330\n",
            "Epoch 52/100\n",
            "31/31 [==============================] - 1s 26ms/step - loss: 1433.3970 - mae: 1433.8970\n",
            "Epoch 53/100\n",
            "31/31 [==============================] - 1s 25ms/step - loss: 1253.1602 - mae: 1253.6602\n",
            "Epoch 54/100\n",
            "31/31 [==============================] - 1s 25ms/step - loss: 1050.9316 - mae: 1051.4316\n",
            "Epoch 55/100\n",
            "31/31 [==============================] - 1s 25ms/step - loss: 824.0272 - mae: 824.5272\n",
            "Epoch 56/100\n",
            "31/31 [==============================] - 1s 26ms/step - loss: 569.4365 - mae: 569.9365\n",
            "Epoch 57/100\n",
            "31/31 [==============================] - 1s 26ms/step - loss: 283.7810 - mae: 284.2810\n",
            "Epoch 58/100\n",
            "31/31 [==============================] - 1s 25ms/step - loss: 36.0396 - mae: 36.5359\n",
            "Epoch 59/100\n",
            "31/31 [==============================] - 1s 25ms/step - loss: 3.8739 - mae: 4.3635\n",
            "Epoch 60/100\n",
            "31/31 [==============================] - 1s 26ms/step - loss: 0.5866 - mae: 0.9461\n",
            "Epoch 61/100\n",
            "31/31 [==============================] - 1s 26ms/step - loss: 0.4794 - mae: 0.8110\n",
            "Epoch 62/100\n",
            "31/31 [==============================] - 1s 26ms/step - loss: 0.4694 - mae: 0.7875\n",
            "Epoch 63/100\n",
            "31/31 [==============================] - 1s 27ms/step - loss: 0.5248 - mae: 0.8661\n",
            "Epoch 64/100\n",
            "31/31 [==============================] - 1s 26ms/step - loss: 0.5119 - mae: 0.8554\n",
            "Epoch 65/100\n",
            "31/31 [==============================] - 1s 25ms/step - loss: 0.7129 - mae: 1.1128\n",
            "Epoch 66/100\n",
            "31/31 [==============================] - 1s 26ms/step - loss: 0.9409 - mae: 1.3462\n",
            "Epoch 67/100\n",
            "31/31 [==============================] - 1s 26ms/step - loss: 0.5971 - mae: 0.9808\n",
            "Epoch 68/100\n",
            "31/31 [==============================] - 1s 26ms/step - loss: 0.6235 - mae: 1.0099\n",
            "Epoch 69/100\n",
            "31/31 [==============================] - 1s 25ms/step - loss: 0.7392 - mae: 1.1219\n",
            "Epoch 70/100\n",
            "31/31 [==============================] - 1s 25ms/step - loss: 2.8237 - mae: 3.2999\n",
            "Epoch 71/100\n",
            "31/31 [==============================] - 1s 25ms/step - loss: 2.7961 - mae: 3.2719\n",
            "Epoch 72/100\n",
            "31/31 [==============================] - 1s 26ms/step - loss: 3.0509 - mae: 3.5318\n",
            "Epoch 73/100\n",
            "31/31 [==============================] - 1s 25ms/step - loss: 3.2080 - mae: 3.6556\n",
            "Epoch 74/100\n",
            "31/31 [==============================] - 1s 26ms/step - loss: 2.4766 - mae: 2.9451\n",
            "Epoch 75/100\n",
            "31/31 [==============================] - 1s 25ms/step - loss: 5.1527 - mae: 5.6400\n",
            "Epoch 76/100\n",
            "31/31 [==============================] - 1s 25ms/step - loss: 8.8434 - mae: 9.3317\n",
            "Epoch 77/100\n",
            "31/31 [==============================] - 1s 25ms/step - loss: 10.5642 - mae: 11.0619\n",
            "Epoch 78/100\n",
            "31/31 [==============================] - 1s 25ms/step - loss: 8.6313 - mae: 9.1293\n",
            "Epoch 79/100\n",
            "31/31 [==============================] - 1s 25ms/step - loss: 10.7680 - mae: 11.2565\n",
            "Epoch 80/100\n",
            "31/31 [==============================] - 1s 25ms/step - loss: 12.6300 - mae: 13.1185\n",
            "Epoch 81/100\n",
            "31/31 [==============================] - 1s 25ms/step - loss: 12.2310 - mae: 12.7203\n",
            "Epoch 82/100\n",
            "31/31 [==============================] - 1s 26ms/step - loss: 27.3094 - mae: 27.8091\n",
            "Epoch 83/100\n",
            "31/31 [==============================] - 1s 25ms/step - loss: 30.3097 - mae: 30.8096\n",
            "Epoch 84/100\n",
            "31/31 [==============================] - 1s 25ms/step - loss: 34.4780 - mae: 34.9776\n",
            "Epoch 85/100\n",
            "31/31 [==============================] - 1s 26ms/step - loss: 22.3478 - mae: 22.8413\n",
            "Epoch 86/100\n",
            "31/31 [==============================] - 1s 26ms/step - loss: 14.3566 - mae: 14.8566\n",
            "Epoch 87/100\n",
            "31/31 [==============================] - 1s 25ms/step - loss: 28.8281 - mae: 29.3278\n",
            "Epoch 88/100\n",
            "31/31 [==============================] - 1s 26ms/step - loss: 43.0553 - mae: 43.5549\n",
            "Epoch 89/100\n",
            "31/31 [==============================] - 1s 25ms/step - loss: 29.7043 - mae: 30.2027\n",
            "Epoch 90/100\n",
            "31/31 [==============================] - 1s 26ms/step - loss: 38.4180 - mae: 38.9136\n",
            "Epoch 91/100\n",
            "31/31 [==============================] - 1s 26ms/step - loss: 30.3529 - mae: 30.8486\n",
            "Epoch 92/100\n",
            "31/31 [==============================] - 1s 25ms/step - loss: 50.7046 - mae: 51.2043\n",
            "Epoch 93/100\n",
            "31/31 [==============================] - 1s 25ms/step - loss: 87.6316 - mae: 88.1308\n",
            "Epoch 94/100\n",
            "31/31 [==============================] - 1s 25ms/step - loss: 107.1770 - mae: 107.6770\n",
            "Epoch 95/100\n",
            "31/31 [==============================] - 1s 25ms/step - loss: 86.0819 - mae: 86.5777\n",
            "Epoch 96/100\n",
            "31/31 [==============================] - 1s 27ms/step - loss: 108.2920 - mae: 108.7919\n",
            "Epoch 97/100\n",
            "31/31 [==============================] - 1s 25ms/step - loss: 156.5176 - mae: 157.0176\n",
            "Epoch 98/100\n",
            "31/31 [==============================] - 1s 25ms/step - loss: 168.7008 - mae: 169.2008\n",
            "Epoch 99/100\n",
            "31/31 [==============================] - 1s 26ms/step - loss: 148.6441 - mae: 149.1342\n",
            "Epoch 100/100\n",
            "31/31 [==============================] - 1s 25ms/step - loss: 70.9148 - mae: 71.4148\n"
          ],
          "name": "stdout"
        }
      ]
    },
    {
      "cell_type": "code",
      "metadata": {
        "colab": {
          "base_uri": "https://localhost:8080/",
          "height": 287
        },
        "id": "jHe9QbnRsAP3",
        "outputId": "eb63da27-4814-4c8a-d96e-4d15b64af7d8"
      },
      "source": [
        "plt.semilogx(history.history['lr'],history.history['loss'])"
      ],
      "execution_count": null,
      "outputs": [
        {
          "output_type": "execute_result",
          "data": {
            "text/plain": [
              "[<matplotlib.lines.Line2D at 0x7fd18f64f2b0>]"
            ]
          },
          "metadata": {
            "tags": []
          },
          "execution_count": 43
        },
        {
          "output_type": "display_data",
          "data": {
            "image/png": "[encoded data removed]",
            "text/plain": [
              "<Figure size 432x288 with 1 Axes>"
            ]
          },
          "metadata": {
            "tags": [],
            "needs_background": "light"
          }
        }
      ]
    },
    {
      "cell_type": "code",
      "metadata": {
        "id": "y0bbKwuCszSs"
      },
      "source": [
        "dataset = windowed_dataset(x_train,window_size,batch_size,shuffle_buffer=shuffle_buffer_size)\n",
        "\n",
        "model = tf.keras.models.Sequential([\n",
        "                                    tf.keras.layers.Conv1D(filters=100,kernel_size=5,strides=1,padding='causal',activation='relu',input_shape=[None,1]),\n",
        "                                    tf.keras.layers.Bidirectional(tf.keras.layers.LSTM(20,return_sequences=True)),\n",
        "                                    tf.keras.layers.Bidirectional(tf.keras.layers.LSTM(20,return_sequences=True)),\n",
        "                                    tf.keras.layers.Dense(30,activation='relu'),\n",
        "                                    tf.keras.layers.Dense(10,activation='relu'),\n",
        "                                    tf.keras.layers.Dense(1),\n",
        "                                    tf.keras.layers.Lambda(lambda x: x*400)\n",
        "])"
      ],
      "execution_count": null,
      "outputs": []
    },
    {
      "cell_type": "code",
      "metadata": {
        "id": "i1yxHhD8tN5x"
      },
      "source": [
        "model.compile(loss= tf.keras.losses.Huber(),optimizer= tf.keras.optimizers.SGD(lr=1e-5,momentum=0.9),metrics=['mae'])"
      ],
      "execution_count": null,
      "outputs": []
    },
    {
      "cell_type": "code",
      "metadata": {
        "colab": {
          "base_uri": "https://localhost:8080/"
        },
        "id": "taGiyKVOtPso",
        "outputId": "eaf18e05-4bb0-4a32-f4ac-80b8a4edeaa3"
      },
      "source": [
        "history=model.fit(dataset,epochs=150)"
      ],
      "execution_count": null,
      "outputs": [
        {
          "output_type": "stream",
          "text": [
            "Epoch 1/150\n",
            "31/31 [==============================] - 1s 25ms/step - loss: 6.2469 - mae: 6.7324\n",
            "Epoch 2/150\n",
            "31/31 [==============================] - 1s 25ms/step - loss: 2.0859 - mae: 2.5635\n",
            "Epoch 3/150\n",
            "31/31 [==============================] - 1s 26ms/step - loss: 1.7995 - mae: 2.2809\n",
            "Epoch 4/150\n",
            "31/31 [==============================] - 1s 26ms/step - loss: 1.8201 - mae: 2.2924\n",
            "Epoch 5/150\n",
            "31/31 [==============================] - 1s 27ms/step - loss: 1.6364 - mae: 2.1046\n",
            "Epoch 6/150\n",
            "31/31 [==============================] - 1s 25ms/step - loss: 1.5704 - mae: 2.0523\n",
            "Epoch 7/150\n",
            "31/31 [==============================] - 1s 25ms/step - loss: 1.5779 - mae: 2.0657\n",
            "Epoch 8/150\n",
            "31/31 [==============================] - 1s 26ms/step - loss: 1.5606 - mae: 2.0490\n",
            "Epoch 9/150\n",
            "31/31 [==============================] - 1s 26ms/step - loss: 1.5203 - mae: 2.0091\n",
            "Epoch 10/150\n",
            "31/31 [==============================] - 1s 25ms/step - loss: 1.4588 - mae: 1.9426\n",
            "Epoch 11/150\n",
            "31/31 [==============================] - 1s 26ms/step - loss: 1.4055 - mae: 1.8816\n",
            "Epoch 12/150\n",
            "31/31 [==============================] - 1s 25ms/step - loss: 1.4765 - mae: 1.9666\n",
            "Epoch 13/150\n",
            "31/31 [==============================] - 1s 25ms/step - loss: 1.3964 - mae: 1.8825\n",
            "Epoch 14/150\n",
            "31/31 [==============================] - 1s 26ms/step - loss: 1.3802 - mae: 1.8695\n",
            "Epoch 15/150\n",
            "31/31 [==============================] - 1s 25ms/step - loss: 1.3495 - mae: 1.8378\n",
            "Epoch 16/150\n",
            "31/31 [==============================] - 1s 25ms/step - loss: 1.3865 - mae: 1.8781\n",
            "Epoch 17/150\n",
            "31/31 [==============================] - 1s 26ms/step - loss: 1.3425 - mae: 1.8335\n",
            "Epoch 18/150\n",
            "31/31 [==============================] - 1s 25ms/step - loss: 1.3117 - mae: 1.8011\n",
            "Epoch 19/150\n",
            "31/31 [==============================] - 1s 25ms/step - loss: 1.3098 - mae: 1.8015\n",
            "Epoch 20/150\n",
            "31/31 [==============================] - 1s 25ms/step - loss: 1.2888 - mae: 1.7800\n",
            "Epoch 21/150\n",
            "31/31 [==============================] - 1s 26ms/step - loss: 1.2352 - mae: 1.7215\n",
            "Epoch 22/150\n",
            "31/31 [==============================] - 1s 26ms/step - loss: 1.2295 - mae: 1.7136\n",
            "Epoch 23/150\n",
            "31/31 [==============================] - 1s 26ms/step - loss: 1.1781 - mae: 1.6625\n",
            "Epoch 24/150\n",
            "31/31 [==============================] - 1s 25ms/step - loss: 1.1949 - mae: 1.6829\n",
            "Epoch 25/150\n",
            "31/31 [==============================] - 1s 27ms/step - loss: 1.0503 - mae: 1.5210\n",
            "Epoch 26/150\n",
            "31/31 [==============================] - 1s 25ms/step - loss: 1.1010 - mae: 1.5828\n",
            "Epoch 27/150\n",
            "31/31 [==============================] - 1s 26ms/step - loss: 1.0949 - mae: 1.5766\n",
            "Epoch 28/150\n",
            "31/31 [==============================] - 1s 26ms/step - loss: 1.0939 - mae: 1.5787\n",
            "Epoch 29/150\n",
            "31/31 [==============================] - 1s 26ms/step - loss: 0.9469 - mae: 1.4202\n",
            "Epoch 30/150\n",
            "31/31 [==============================] - 1s 26ms/step - loss: 0.8732 - mae: 1.3365\n",
            "Epoch 31/150\n",
            "31/31 [==============================] - 1s 26ms/step - loss: 0.7724 - mae: 1.2342\n",
            "Epoch 32/150\n",
            "31/31 [==============================] - 1s 26ms/step - loss: 0.7024 - mae: 1.1633\n",
            "Epoch 33/150\n",
            "31/31 [==============================] - 1s 26ms/step - loss: 0.6841 - mae: 1.1376\n",
            "Epoch 34/150\n",
            "31/31 [==============================] - 1s 26ms/step - loss: 0.5126 - mae: 0.9260\n",
            "Epoch 35/150\n",
            "31/31 [==============================] - 1s 26ms/step - loss: 0.2948 - mae: 0.6519\n",
            "Epoch 36/150\n",
            "31/31 [==============================] - 1s 26ms/step - loss: 0.2785 - mae: 0.6257\n",
            "Epoch 37/150\n",
            "31/31 [==============================] - 1s 26ms/step - loss: 0.1778 - mae: 0.4801\n",
            "Epoch 38/150\n",
            "31/31 [==============================] - 1s 26ms/step - loss: 0.1528 - mae: 0.4321\n",
            "Epoch 39/150\n",
            "31/31 [==============================] - 1s 26ms/step - loss: 0.1908 - mae: 0.5030\n",
            "Epoch 40/150\n",
            "31/31 [==============================] - 1s 26ms/step - loss: 0.1236 - mae: 0.3831\n",
            "Epoch 41/150\n",
            "31/31 [==============================] - 1s 26ms/step - loss: 0.1196 - mae: 0.3717\n",
            "Epoch 42/150\n",
            "31/31 [==============================] - 1s 25ms/step - loss: 0.1774 - mae: 0.4707\n",
            "Epoch 43/150\n",
            "31/31 [==============================] - 1s 26ms/step - loss: 0.1589 - mae: 0.4429\n",
            "Epoch 44/150\n",
            "31/31 [==============================] - 1s 26ms/step - loss: 0.0851 - mae: 0.2971\n",
            "Epoch 45/150\n",
            "31/31 [==============================] - 1s 25ms/step - loss: 0.1734 - mae: 0.4590\n",
            "Epoch 46/150\n",
            "31/31 [==============================] - 1s 25ms/step - loss: 0.2149 - mae: 0.5434\n",
            "Epoch 47/150\n",
            "31/31 [==============================] - 1s 26ms/step - loss: 0.1368 - mae: 0.4068\n",
            "Epoch 48/150\n",
            "31/31 [==============================] - 1s 26ms/step - loss: 0.1149 - mae: 0.3669\n",
            "Epoch 49/150\n",
            "31/31 [==============================] - 1s 26ms/step - loss: 0.1755 - mae: 0.4851\n",
            "Epoch 50/150\n",
            "31/31 [==============================] - 1s 26ms/step - loss: 0.1085 - mae: 0.3592\n",
            "Epoch 51/150\n",
            "31/31 [==============================] - 1s 26ms/step - loss: 0.1307 - mae: 0.4009\n",
            "Epoch 52/150\n",
            "31/31 [==============================] - 1s 26ms/step - loss: 0.1185 - mae: 0.3794\n",
            "Epoch 53/150\n",
            "31/31 [==============================] - 1s 26ms/step - loss: 0.1329 - mae: 0.4078\n",
            "Epoch 54/150\n",
            "31/31 [==============================] - 1s 26ms/step - loss: 0.1910 - mae: 0.5084\n",
            "Epoch 55/150\n",
            "31/31 [==============================] - 1s 26ms/step - loss: 0.1489 - mae: 0.4316\n",
            "Epoch 56/150\n",
            "31/31 [==============================] - 1s 26ms/step - loss: 0.1064 - mae: 0.3589\n",
            "Epoch 57/150\n",
            "31/31 [==============================] - 1s 26ms/step - loss: 0.0900 - mae: 0.3173\n",
            "Epoch 58/150\n",
            "31/31 [==============================] - 1s 26ms/step - loss: 0.1305 - mae: 0.4081\n",
            "Epoch 59/150\n",
            "31/31 [==============================] - 1s 26ms/step - loss: 0.1195 - mae: 0.3862\n",
            "Epoch 60/150\n",
            "31/31 [==============================] - 1s 26ms/step - loss: 0.1064 - mae: 0.3592\n",
            "Epoch 61/150\n",
            "31/31 [==============================] - 1s 26ms/step - loss: 0.0816 - mae: 0.3050\n",
            "Epoch 62/150\n",
            "31/31 [==============================] - 1s 25ms/step - loss: 0.1041 - mae: 0.3464\n",
            "Epoch 63/150\n",
            "31/31 [==============================] - 1s 26ms/step - loss: 0.1100 - mae: 0.3708\n",
            "Epoch 64/150\n",
            "31/31 [==============================] - 1s 25ms/step - loss: 0.0910 - mae: 0.3257\n",
            "Epoch 65/150\n",
            "31/31 [==============================] - 1s 25ms/step - loss: 0.0858 - mae: 0.3112\n",
            "Epoch 66/150\n",
            "31/31 [==============================] - 1s 25ms/step - loss: 0.0798 - mae: 0.2999\n",
            "Epoch 67/150\n",
            "31/31 [==============================] - 1s 25ms/step - loss: 0.0768 - mae: 0.2952\n",
            "Epoch 68/150\n",
            "31/31 [==============================] - 1s 26ms/step - loss: 0.0978 - mae: 0.3386\n",
            "Epoch 69/150\n",
            "31/31 [==============================] - 1s 26ms/step - loss: 0.1926 - mae: 0.5193\n",
            "Epoch 70/150\n",
            "31/31 [==============================] - 1s 25ms/step - loss: 0.1117 - mae: 0.3701\n",
            "Epoch 71/150\n",
            "31/31 [==============================] - 1s 26ms/step - loss: 0.1154 - mae: 0.3790\n",
            "Epoch 72/150\n",
            "31/31 [==============================] - 1s 26ms/step - loss: 0.0867 - mae: 0.3174\n",
            "Epoch 73/150\n",
            "31/31 [==============================] - 1s 26ms/step - loss: 0.0762 - mae: 0.2925\n",
            "Epoch 74/150\n",
            "31/31 [==============================] - 1s 25ms/step - loss: 0.0706 - mae: 0.2790\n",
            "Epoch 75/150\n",
            "31/31 [==============================] - 1s 26ms/step - loss: 0.0947 - mae: 0.3417\n",
            "Epoch 76/150\n",
            "31/31 [==============================] - 1s 26ms/step - loss: 0.1402 - mae: 0.4327\n",
            "Epoch 77/150\n",
            "31/31 [==============================] - 1s 26ms/step - loss: 0.0782 - mae: 0.2964\n",
            "Epoch 78/150\n",
            "31/31 [==============================] - 1s 26ms/step - loss: 0.0648 - mae: 0.2641\n",
            "Epoch 79/150\n",
            "31/31 [==============================] - 1s 25ms/step - loss: 0.0734 - mae: 0.2855\n",
            "Epoch 80/150\n",
            "31/31 [==============================] - 1s 26ms/step - loss: 0.0740 - mae: 0.2909\n",
            "Epoch 81/150\n",
            "31/31 [==============================] - 1s 26ms/step - loss: 0.0839 - mae: 0.3146\n",
            "Epoch 82/150\n",
            "31/31 [==============================] - 1s 25ms/step - loss: 0.1142 - mae: 0.3841\n",
            "Epoch 83/150\n",
            "31/31 [==============================] - 1s 26ms/step - loss: 0.0671 - mae: 0.2749\n",
            "Epoch 84/150\n",
            "31/31 [==============================] - 1s 25ms/step - loss: 0.0916 - mae: 0.3393\n",
            "Epoch 85/150\n",
            "31/31 [==============================] - 1s 26ms/step - loss: 0.0796 - mae: 0.3055\n",
            "Epoch 86/150\n",
            "31/31 [==============================] - 1s 26ms/step - loss: 0.0579 - mae: 0.2461\n",
            "Epoch 87/150\n",
            "31/31 [==============================] - 1s 27ms/step - loss: 0.0600 - mae: 0.2511\n",
            "Epoch 88/150\n",
            "31/31 [==============================] - 1s 26ms/step - loss: 0.1056 - mae: 0.3688\n",
            "Epoch 89/150\n",
            "31/31 [==============================] - 1s 26ms/step - loss: 0.0822 - mae: 0.3053\n",
            "Epoch 90/150\n",
            "31/31 [==============================] - 1s 26ms/step - loss: 0.0573 - mae: 0.2493\n",
            "Epoch 91/150\n",
            "31/31 [==============================] - 1s 25ms/step - loss: 0.0653 - mae: 0.2692\n",
            "Epoch 92/150\n",
            "31/31 [==============================] - 1s 26ms/step - loss: 0.0594 - mae: 0.2565\n",
            "Epoch 93/150\n",
            "31/31 [==============================] - 1s 26ms/step - loss: 0.0567 - mae: 0.2473\n",
            "Epoch 94/150\n",
            "31/31 [==============================] - 1s 25ms/step - loss: 0.0684 - mae: 0.2820\n",
            "Epoch 95/150\n",
            "31/31 [==============================] - 1s 26ms/step - loss: 0.0640 - mae: 0.2669\n",
            "Epoch 96/150\n",
            "31/31 [==============================] - 1s 26ms/step - loss: 0.0804 - mae: 0.3104\n",
            "Epoch 97/150\n",
            "31/31 [==============================] - 1s 26ms/step - loss: 0.0905 - mae: 0.3290\n",
            "Epoch 98/150\n",
            "31/31 [==============================] - 1s 27ms/step - loss: 0.0593 - mae: 0.2596\n",
            "Epoch 99/150\n",
            "31/31 [==============================] - 1s 26ms/step - loss: 0.0552 - mae: 0.2446\n",
            "Epoch 100/150\n",
            "31/31 [==============================] - 1s 26ms/step - loss: 0.0592 - mae: 0.2560\n",
            "Epoch 101/150\n",
            "31/31 [==============================] - 1s 26ms/step - loss: 0.0657 - mae: 0.2761\n",
            "Epoch 102/150\n",
            "31/31 [==============================] - 1s 26ms/step - loss: 0.0564 - mae: 0.2518\n",
            "Epoch 103/150\n",
            "31/31 [==============================] - 1s 26ms/step - loss: 0.0627 - mae: 0.2679\n",
            "Epoch 104/150\n",
            "31/31 [==============================] - 1s 26ms/step - loss: 0.0706 - mae: 0.2924\n",
            "Epoch 105/150\n",
            "31/31 [==============================] - 1s 26ms/step - loss: 0.0653 - mae: 0.2772\n",
            "Epoch 106/150\n",
            "31/31 [==============================] - 1s 26ms/step - loss: 0.0658 - mae: 0.2763\n",
            "Epoch 107/150\n",
            "31/31 [==============================] - 1s 25ms/step - loss: 0.0657 - mae: 0.2738\n",
            "Epoch 108/150\n",
            "31/31 [==============================] - 1s 26ms/step - loss: 0.1179 - mae: 0.3982\n",
            "Epoch 109/150\n",
            "31/31 [==============================] - 1s 26ms/step - loss: 0.0747 - mae: 0.2936\n",
            "Epoch 110/150\n",
            "31/31 [==============================] - 1s 26ms/step - loss: 0.0612 - mae: 0.2681\n",
            "Epoch 111/150\n",
            "31/31 [==============================] - 1s 25ms/step - loss: 0.0653 - mae: 0.2756\n",
            "Epoch 112/150\n",
            "31/31 [==============================] - 1s 26ms/step - loss: 0.0652 - mae: 0.2776\n",
            "Epoch 113/150\n",
            "31/31 [==============================] - 1s 26ms/step - loss: 0.1009 - mae: 0.3655\n",
            "Epoch 114/150\n",
            "31/31 [==============================] - 1s 26ms/step - loss: 0.0627 - mae: 0.2702\n",
            "Epoch 115/150\n",
            "31/31 [==============================] - 1s 26ms/step - loss: 0.0514 - mae: 0.2330\n",
            "Epoch 116/150\n",
            "31/31 [==============================] - 1s 26ms/step - loss: 0.0953 - mae: 0.3486\n",
            "Epoch 117/150\n",
            "31/31 [==============================] - 1s 26ms/step - loss: 0.1066 - mae: 0.3651\n",
            "Epoch 118/150\n",
            "31/31 [==============================] - 1s 26ms/step - loss: 0.0669 - mae: 0.2831\n",
            "Epoch 119/150\n",
            "31/31 [==============================] - 1s 26ms/step - loss: 0.0517 - mae: 0.2370\n",
            "Epoch 120/150\n",
            "31/31 [==============================] - 1s 25ms/step - loss: 0.0729 - mae: 0.2909\n",
            "Epoch 121/150\n",
            "31/31 [==============================] - 1s 27ms/step - loss: 0.0901 - mae: 0.3303\n",
            "Epoch 122/150\n",
            "31/31 [==============================] - 1s 26ms/step - loss: 0.0719 - mae: 0.2939\n",
            "Epoch 123/150\n",
            "31/31 [==============================] - 1s 26ms/step - loss: 0.0551 - mae: 0.2487\n",
            "Epoch 124/150\n",
            "31/31 [==============================] - 1s 26ms/step - loss: 0.0555 - mae: 0.2458\n",
            "Epoch 125/150\n",
            "31/31 [==============================] - 1s 26ms/step - loss: 0.0800 - mae: 0.3146\n",
            "Epoch 126/150\n",
            "31/31 [==============================] - 1s 26ms/step - loss: 0.0646 - mae: 0.2711\n",
            "Epoch 127/150\n",
            "31/31 [==============================] - 1s 26ms/step - loss: 0.0799 - mae: 0.3196\n",
            "Epoch 128/150\n",
            "31/31 [==============================] - 1s 26ms/step - loss: 0.0576 - mae: 0.2558\n",
            "Epoch 129/150\n",
            "31/31 [==============================] - 1s 26ms/step - loss: 0.0556 - mae: 0.2485\n",
            "Epoch 130/150\n",
            "31/31 [==============================] - 1s 26ms/step - loss: 0.0764 - mae: 0.3029\n",
            "Epoch 131/150\n",
            "31/31 [==============================] - 1s 26ms/step - loss: 0.0670 - mae: 0.2790\n",
            "Epoch 132/150\n",
            "31/31 [==============================] - 1s 26ms/step - loss: 0.0457 - mae: 0.2228\n",
            "Epoch 133/150\n",
            "31/31 [==============================] - 1s 26ms/step - loss: 0.0795 - mae: 0.3130\n",
            "Epoch 134/150\n",
            "31/31 [==============================] - 1s 26ms/step - loss: 0.0705 - mae: 0.2941\n",
            "Epoch 135/150\n",
            "31/31 [==============================] - 1s 26ms/step - loss: 0.0524 - mae: 0.2417\n",
            "Epoch 136/150\n",
            "31/31 [==============================] - 1s 26ms/step - loss: 0.0536 - mae: 0.2461\n",
            "Epoch 137/150\n",
            "31/31 [==============================] - 1s 26ms/step - loss: 0.0573 - mae: 0.2599\n",
            "Epoch 138/150\n",
            "31/31 [==============================] - 1s 26ms/step - loss: 0.0412 - mae: 0.2010\n",
            "Epoch 139/150\n",
            "31/31 [==============================] - 1s 26ms/step - loss: 0.0526 - mae: 0.2425\n",
            "Epoch 140/150\n",
            "31/31 [==============================] - 1s 25ms/step - loss: 0.0705 - mae: 0.2956\n",
            "Epoch 141/150\n",
            "31/31 [==============================] - 1s 26ms/step - loss: 0.0429 - mae: 0.2108\n",
            "Epoch 142/150\n",
            "31/31 [==============================] - 1s 26ms/step - loss: 0.1011 - mae: 0.3604\n",
            "Epoch 143/150\n",
            "31/31 [==============================] - 1s 26ms/step - loss: 0.0769 - mae: 0.3023\n",
            "Epoch 144/150\n",
            "31/31 [==============================] - 1s 26ms/step - loss: 0.1050 - mae: 0.3731\n",
            "Epoch 145/150\n",
            "31/31 [==============================] - 1s 26ms/step - loss: 0.0864 - mae: 0.3365\n",
            "Epoch 146/150\n",
            "31/31 [==============================] - 1s 26ms/step - loss: 0.0670 - mae: 0.2899\n",
            "Epoch 147/150\n",
            "31/31 [==============================] - 1s 25ms/step - loss: 0.0463 - mae: 0.2255\n",
            "Epoch 148/150\n",
            "31/31 [==============================] - 1s 26ms/step - loss: 0.0698 - mae: 0.2853\n",
            "Epoch 149/150\n",
            "31/31 [==============================] - 1s 25ms/step - loss: 0.0856 - mae: 0.3231\n",
            "Epoch 150/150\n",
            "31/31 [==============================] - 1s 26ms/step - loss: 0.0539 - mae: 0.2455\n"
          ],
          "name": "stdout"
        }
      ]
    },
    {
      "cell_type": "code",
      "metadata": {
        "colab": {
          "base_uri": "https://localhost:8080/",
          "height": 669
        },
        "id": "NMpLwJiOtTRU",
        "outputId": "97f1dc86-488b-4131-c103-4d750885a6d5"
      },
      "source": [
        "loss= history.history['loss']\n",
        "mae = history.history['mae']\n",
        "epochs= range(len(loss))\n",
        "plt.plot(epochs,loss,'r')\n",
        "plt.plot(epochs,mae,'b')\n",
        "plt.title('loss and mae')\n",
        "rnn_forecast = model_forecast(model,series[...,np.newaxis],window_size)\n",
        "rnn_forecast = rnn_forecast[split_time-window_size:-1,-1,0]\n",
        "plt.figure(figsize=(10,6))\n",
        "plot_series(time_valid,x_valid)\n",
        "plot_series(time_valid,rnn_forecast)\n",
        "plt.show()"
      ],
      "execution_count": null,
      "outputs": [
        {
          "output_type": "display_data",
          "data": {
            "image/png": "[encoded data removed]",
            "text/plain": [
              "<Figure size 432x288 with 1 Axes>"
            ]
          },
          "metadata": {
            "tags": [],
            "needs_background": "light"
          }
        },
        {
          "output_type": "display_data",
          "data": {
            "image/png": "[encoded data removed]",
            "text/plain": [
              "<Figure size 720x432 with 1 Axes>"
            ]
          },
          "metadata": {
            "tags": [],
            "needs_background": "light"
          }
        },
        {
          "output_type": "execute_result",
          "data": {
            "text/plain": [
              "<tf.Tensor: shape=(), dtype=float32, numpy=nan>"
            ]
          },
          "metadata": {
            "tags": []
          },
          "execution_count": 49
        }
      ]
    },
    {
      "cell_type": "code",
      "metadata": {
        "colab": {
          "base_uri": "https://localhost:8080/"
        },
        "id": "8CJPuNjpuEFT",
        "outputId": "12bc5f0a-79da-4d93-e8da-eb9901dd31d7"
      },
      "source": [
        "\n",
        "tf.keras.metrics.mean_absolute_error(x_valid,rnn_forecast).numpy()"
      ],
      "execution_count": null,
      "outputs": [
        {
          "output_type": "execute_result",
          "data": {
            "text/plain": [
              "nan"
            ]
          },
          "metadata": {
            "tags": []
          },
          "execution_count": 51
        }
      ]
    },
    {
      "cell_type": "code",
      "metadata": {
        "id": "Cb_bKwPMuKxt"
      },
      "source": [
        ""
      ],
      "execution_count": null,
      "outputs": []
    }
  ]
}